{
 "cells": [
  {
   "cell_type": "code",
   "execution_count": 1,
   "metadata": {},
   "outputs": [],
   "source": [
    "import pandas as pd\n",
    "def getNifty100():\n",
    "\n",
    "    nList = \"nifty100\"\n",
    "    url = \"https://archives.nseindia.com/content/indices/ind_\" + nList + \"list.csv\"\n",
    "\n",
    "    return pd.read_csv(url)\n",
    "\n",
    "\n",
    "index = getNifty100()"
   ]
  },
  {
   "cell_type": "code",
   "execution_count": 7,
   "metadata": {},
   "outputs": [
    {
     "data": {
      "text/plain": [
       "Financial Services                23\n",
       "Fast Moving Consumer Goods        11\n",
       "Healthcare                        10\n",
       "Information Technology             7\n",
       "Metals & Mining                    7\n",
       "Automobile and Auto Components     7\n",
       "Oil Gas & Consumable Fuels         6\n",
       "Consumer Services                  5\n",
       "Construction Materials             5\n",
       "Power                              4\n",
       "Consumer Durables                  4\n",
       "Chemicals                          4\n",
       "Services                           2\n",
       "Telecommunication                  2\n",
       "Capital Goods                      1\n",
       "Construction                       1\n",
       "Realty                             1\n",
       "Name: Industry, dtype: int64"
      ]
     },
     "execution_count": 7,
     "metadata": {},
     "output_type": "execute_result"
    }
   ],
   "source": [
    "index.Industry.value_counts()"
   ]
  },
  {
   "cell_type": "code",
   "execution_count": 9,
   "metadata": {},
   "outputs": [
    {
     "data": {
      "text/html": [
       "<div>\n",
       "<style scoped>\n",
       "    .dataframe tbody tr th:only-of-type {\n",
       "        vertical-align: middle;\n",
       "    }\n",
       "\n",
       "    .dataframe tbody tr th {\n",
       "        vertical-align: top;\n",
       "    }\n",
       "\n",
       "    .dataframe thead th {\n",
       "        text-align: right;\n",
       "    }\n",
       "</style>\n",
       "<table border=\"1\" class=\"dataframe\">\n",
       "  <thead>\n",
       "    <tr style=\"text-align: right;\">\n",
       "      <th></th>\n",
       "      <th>Company Name</th>\n",
       "      <th>Industry</th>\n",
       "      <th>Symbol</th>\n",
       "      <th>Series</th>\n",
       "      <th>ISIN Code</th>\n",
       "    </tr>\n",
       "  </thead>\n",
       "  <tbody>\n",
       "    <tr>\n",
       "      <th>82</th>\n",
       "      <td>Siemens Ltd.</td>\n",
       "      <td>Capital Goods</td>\n",
       "      <td>SIEMENS</td>\n",
       "      <td>EQ</td>\n",
       "      <td>INE003A01024</td>\n",
       "    </tr>\n",
       "  </tbody>\n",
       "</table>\n",
       "</div>"
      ],
      "text/plain": [
       "    Company Name       Industry   Symbol Series     ISIN Code\n",
       "82  Siemens Ltd.  Capital Goods  SIEMENS     EQ  INE003A01024"
      ]
     },
     "execution_count": 9,
     "metadata": {},
     "output_type": "execute_result"
    }
   ],
   "source": [
    "index.loc[index.Industry=='Capital Goods',:]"
   ]
  },
  {
   "cell_type": "code",
   "execution_count": 10,
   "metadata": {},
   "outputs": [],
   "source": [
    "import nsepy as npy\n",
    "import datetime\n",
    "from dateutil.relativedelta import relativedelta, TH\n",
    "import re\n",
    "\n",
    "start_date = datetime.date.today() - relativedelta(years=5)\n",
    "end_date = datetime.date.today()\n",
    "ohlc_data= pd.DataFrame()\n",
    "for symbol in index.Symbol:\n",
    "    ohlc_data = ohlc_data.append(npy.get_history(\n",
    "        symbol=re.sub(\"&\", \"%26\", symbol), start=start_date, end=end_date\n",
    "    ).reset_index())"
   ]
  },
  {
   "cell_type": "code",
   "execution_count": 13,
   "metadata": {},
   "outputs": [],
   "source": [
    "import pickle\n",
    "fl = open(r'C:\\Users\\ksdee\\Documents\\PersonalFinance\\Trading\\Trading_Data\\ohlc_data.pd','wb')\n",
    "pickle.dump(ohlc_data,fl)"
   ]
  },
  {
   "cell_type": "code",
   "execution_count": 2,
   "metadata": {},
   "outputs": [],
   "source": [
    "import pickle\n",
    "fl = open(r'C:\\Users\\ksdee\\Documents\\PersonalFinance\\Trading\\Trading_Data\\ohlc_data.pd','rb')\n",
    "ohlc_data = pickle.load(fl)"
   ]
  },
  {
   "cell_type": "code",
   "execution_count": 3,
   "metadata": {},
   "outputs": [
    {
     "name": "stdout",
     "output_type": "stream",
     "text": [
      "<class 'pandas.core.frame.DataFrame'>\n",
      "Int64Index: 117067 entries, 0 to 1238\n",
      "Data columns (total 15 columns):\n",
      " #   Column              Non-Null Count   Dtype  \n",
      "---  ------              --------------   -----  \n",
      " 0   Date                117067 non-null  object \n",
      " 1   Symbol              117067 non-null  object \n",
      " 2   Series              117067 non-null  object \n",
      " 3   Prev Close          117067 non-null  float64\n",
      " 4   Open                117067 non-null  float64\n",
      " 5   High                117067 non-null  float64\n",
      " 6   Low                 117067 non-null  float64\n",
      " 7   Last                117067 non-null  float64\n",
      " 8   Close               117067 non-null  float64\n",
      " 9   VWAP                117067 non-null  float64\n",
      " 10  Volume              117067 non-null  object \n",
      " 11  Turnover            117067 non-null  float64\n",
      " 12  Trades              117067 non-null  object \n",
      " 13  Deliverable Volume  117067 non-null  object \n",
      " 14  %Deliverble         117067 non-null  float64\n",
      "dtypes: float64(9), object(6)\n",
      "memory usage: 14.3+ MB\n"
     ]
    }
   ],
   "source": [
    "ohlc_data.info()"
   ]
  },
  {
   "cell_type": "code",
   "execution_count": 4,
   "metadata": {},
   "outputs": [],
   "source": [
    "import datetime\n",
    "ohlc_data = ohlc_data.set_index('Date')"
   ]
  },
  {
   "cell_type": "code",
   "execution_count": 5,
   "metadata": {},
   "outputs": [],
   "source": [
    "ohlc_data.sort_index(ascending=False,inplace=True)"
   ]
  },
  {
   "cell_type": "code",
   "execution_count": 6,
   "metadata": {},
   "outputs": [],
   "source": [
    "import numpy as np\n",
    "price_change = 0.1\n",
    "price_change_range = 15\n",
    "feature_range = 30\n",
    "\n",
    "for indx,dt in ohlc_data.groupby('Symbol'):\n",
    "    stckData = dt.copy()\n",
    "    stckData = stckData.sort_index(ascending=True)\n",
    "    stckData['CloseShifted'] = stckData.Close.shift(-price_change_range)\n",
    "    stckData['rangeReturn'] = ((stckData.Close/stckData.CloseShifted) -1)\n",
    "    stckData['rangeReturnDir'] = stckData['rangeReturn'].apply(lambda x : 'VHPC' if x >= price_change else 'VHLC' if x <= -price_change else 'UN' )\n",
    "    stckData.dropna(inplace=True)\n",
    "    dtRangeShft = stckData.shift(feature_range).dropna().index\n",
    "\n",
    "    for dd in dtRangeShft:\n",
    "        currIndex = np.where(stckData.index == dd)[0][0]\n",
    "        prevIndex = currIndex - feature_range\n",
    "        \n",
    "        stckData.iloc[prevIndex:currIndex,:][['Open','High','Low','Close','VWAP','Volume','Trades','Deliverable Volume','%Deliverble']]\n",
    "        break\n",
    "    break\n",
    "    "
   ]
  },
  {
   "cell_type": "code",
   "execution_count": 7,
   "metadata": {},
   "outputs": [
    {
     "data": {
      "text/plain": [
       "UN      1065\n",
       "VHLC      83\n",
       "VHPC      76\n",
       "Name: rangeReturnDir, dtype: int64"
      ]
     },
     "execution_count": 7,
     "metadata": {},
     "output_type": "execute_result"
    }
   ],
   "source": [
    "stckData.rangeReturnDir.value_counts()"
   ]
  },
  {
   "cell_type": "code",
   "execution_count": 9,
   "metadata": {},
   "outputs": [
    {
     "name": "stdout",
     "output_type": "stream",
     "text": [
      "Downloading data from https://storage.googleapis.com/tensorflow/tf-keras-datasets/mnist.npz\n",
      "11493376/11490434 [==============================] - 1s 0us/step\n",
      "11501568/11490434 [==============================] - 1s 0us/step\n"
     ]
    }
   ],
   "source": [
    "from tensorflow.keras.datasets import mnist \n",
    "(train_images,train_lables),(test_images,test_labels) = mnist.load_data()"
   ]
  },
  {
   "cell_type": "code",
   "execution_count": 11,
   "metadata": {},
   "outputs": [
    {
     "data": {
      "text/plain": [
       "(60000, 28, 28)"
      ]
     },
     "execution_count": 11,
     "metadata": {},
     "output_type": "execute_result"
    }
   ],
   "source": [
    "train_images.shape"
   ]
  },
  {
   "cell_type": "code",
   "execution_count": null,
   "metadata": {},
   "outputs": [],
   "source": []
  }
 ],
 "metadata": {
  "interpreter": {
   "hash": "f891598fa8b5b5972efaca718c03aa35a97b948fac6e65a1553e3ec4b83c56aa"
  },
  "kernelspec": {
   "display_name": "Python 3.8.8 ('base')",
   "language": "python",
   "name": "python3"
  },
  "language_info": {
   "codemirror_mode": {
    "name": "ipython",
    "version": 3
   },
   "file_extension": ".py",
   "mimetype": "text/x-python",
   "name": "python",
   "nbconvert_exporter": "python",
   "pygments_lexer": "ipython3",
   "version": "3.8.8"
  },
  "orig_nbformat": 4
 },
 "nbformat": 4,
 "nbformat_minor": 2
}
