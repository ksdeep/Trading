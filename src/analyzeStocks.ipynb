{
 "cells": [
  {
   "cell_type": "code",
   "execution_count": 4,
   "metadata": {},
   "outputs": [
    {
     "name": "stdout",
     "output_type": "stream",
     "text": [
      "Collecting cufflinks\n",
      "  Downloading cufflinks-0.17.3.tar.gz (81 kB)\n",
      "\u001b[K     |████████████████████████████████| 81 kB 1.1 MB/s eta 0:00:01\n",
      "\u001b[?25hRequirement already satisfied: numpy>=1.9.2 in /Users/shubhangi/opt/anaconda3/lib/python3.8/site-packages (from cufflinks) (1.18.5)\n",
      "Requirement already satisfied: pandas>=0.19.2 in /Users/shubhangi/opt/anaconda3/lib/python3.8/site-packages (from cufflinks) (1.0.5)\n",
      "Requirement already satisfied: plotly>=4.1.1 in /Users/shubhangi/opt/anaconda3/lib/python3.8/site-packages (from cufflinks) (5.3.1)\n",
      "Requirement already satisfied: six>=1.9.0 in /Users/shubhangi/opt/anaconda3/lib/python3.8/site-packages (from cufflinks) (1.15.0)\n",
      "Collecting colorlover>=0.2.1\n",
      "  Downloading colorlover-0.3.0-py3-none-any.whl (8.9 kB)\n",
      "Requirement already satisfied: setuptools>=34.4.1 in /Users/shubhangi/opt/anaconda3/lib/python3.8/site-packages (from cufflinks) (49.2.0.post20200714)\n",
      "Requirement already satisfied: ipython>=5.3.0 in /Users/shubhangi/opt/anaconda3/lib/python3.8/site-packages (from cufflinks) (7.16.1)\n",
      "Requirement already satisfied: ipywidgets>=7.0.0 in /Users/shubhangi/opt/anaconda3/lib/python3.8/site-packages (from cufflinks) (7.5.1)\n",
      "Requirement already satisfied: python-dateutil>=2.6.1 in /Users/shubhangi/opt/anaconda3/lib/python3.8/site-packages (from pandas>=0.19.2->cufflinks) (2.8.1)\n",
      "Requirement already satisfied: pytz>=2017.2 in /Users/shubhangi/opt/anaconda3/lib/python3.8/site-packages (from pandas>=0.19.2->cufflinks) (2020.1)\n",
      "Requirement already satisfied: tenacity>=6.2.0 in /Users/shubhangi/opt/anaconda3/lib/python3.8/site-packages (from plotly>=4.1.1->cufflinks) (8.0.1)\n",
      "Requirement already satisfied: backcall in /Users/shubhangi/opt/anaconda3/lib/python3.8/site-packages (from ipython>=5.3.0->cufflinks) (0.2.0)\n",
      "Requirement already satisfied: pickleshare in /Users/shubhangi/opt/anaconda3/lib/python3.8/site-packages (from ipython>=5.3.0->cufflinks) (0.7.5)\n",
      "Requirement already satisfied: pexpect; sys_platform != \"win32\" in /Users/shubhangi/opt/anaconda3/lib/python3.8/site-packages (from ipython>=5.3.0->cufflinks) (4.8.0)\n",
      "Requirement already satisfied: prompt-toolkit!=3.0.0,!=3.0.1,<3.1.0,>=2.0.0 in /Users/shubhangi/opt/anaconda3/lib/python3.8/site-packages (from ipython>=5.3.0->cufflinks) (3.0.5)\n",
      "Requirement already satisfied: pygments in /Users/shubhangi/opt/anaconda3/lib/python3.8/site-packages (from ipython>=5.3.0->cufflinks) (2.6.1)\n",
      "Requirement already satisfied: decorator in /Users/shubhangi/opt/anaconda3/lib/python3.8/site-packages (from ipython>=5.3.0->cufflinks) (4.4.2)\n",
      "Requirement already satisfied: jedi>=0.10 in /Users/shubhangi/opt/anaconda3/lib/python3.8/site-packages (from ipython>=5.3.0->cufflinks) (0.17.1)\n",
      "Requirement already satisfied: appnope; sys_platform == \"darwin\" in /Users/shubhangi/opt/anaconda3/lib/python3.8/site-packages (from ipython>=5.3.0->cufflinks) (0.1.0)\n",
      "Requirement already satisfied: traitlets>=4.2 in /Users/shubhangi/opt/anaconda3/lib/python3.8/site-packages (from ipython>=5.3.0->cufflinks) (4.3.3)\n",
      "Requirement already satisfied: nbformat>=4.2.0 in /Users/shubhangi/opt/anaconda3/lib/python3.8/site-packages (from ipywidgets>=7.0.0->cufflinks) (5.0.7)\n",
      "Requirement already satisfied: widgetsnbextension~=3.5.0 in /Users/shubhangi/opt/anaconda3/lib/python3.8/site-packages (from ipywidgets>=7.0.0->cufflinks) (3.5.1)\n",
      "Requirement already satisfied: ipykernel>=4.5.1 in /Users/shubhangi/opt/anaconda3/lib/python3.8/site-packages (from ipywidgets>=7.0.0->cufflinks) (5.3.2)\n",
      "Requirement already satisfied: ptyprocess>=0.5 in /Users/shubhangi/opt/anaconda3/lib/python3.8/site-packages (from pexpect; sys_platform != \"win32\"->ipython>=5.3.0->cufflinks) (0.6.0)\n",
      "Requirement already satisfied: wcwidth in /Users/shubhangi/opt/anaconda3/lib/python3.8/site-packages (from prompt-toolkit!=3.0.0,!=3.0.1,<3.1.0,>=2.0.0->ipython>=5.3.0->cufflinks) (0.2.5)\n",
      "Requirement already satisfied: parso<0.8.0,>=0.7.0 in /Users/shubhangi/opt/anaconda3/lib/python3.8/site-packages (from jedi>=0.10->ipython>=5.3.0->cufflinks) (0.7.0)\n",
      "Requirement already satisfied: ipython-genutils in /Users/shubhangi/opt/anaconda3/lib/python3.8/site-packages (from traitlets>=4.2->ipython>=5.3.0->cufflinks) (0.2.0)\n",
      "Requirement already satisfied: jupyter-core in /Users/shubhangi/opt/anaconda3/lib/python3.8/site-packages (from nbformat>=4.2.0->ipywidgets>=7.0.0->cufflinks) (4.6.3)\n",
      "Requirement already satisfied: jsonschema!=2.5.0,>=2.4 in /Users/shubhangi/opt/anaconda3/lib/python3.8/site-packages (from nbformat>=4.2.0->ipywidgets>=7.0.0->cufflinks) (3.2.0)\n",
      "Requirement already satisfied: notebook>=4.4.1 in /Users/shubhangi/opt/anaconda3/lib/python3.8/site-packages (from widgetsnbextension~=3.5.0->ipywidgets>=7.0.0->cufflinks) (6.0.3)\n",
      "Requirement already satisfied: jupyter-client in /Users/shubhangi/opt/anaconda3/lib/python3.8/site-packages (from ipykernel>=4.5.1->ipywidgets>=7.0.0->cufflinks) (6.1.6)\n",
      "Requirement already satisfied: tornado>=4.2 in /Users/shubhangi/opt/anaconda3/lib/python3.8/site-packages (from ipykernel>=4.5.1->ipywidgets>=7.0.0->cufflinks) (6.0.4)\n",
      "Requirement already satisfied: pyrsistent>=0.14.0 in /Users/shubhangi/opt/anaconda3/lib/python3.8/site-packages (from jsonschema!=2.5.0,>=2.4->nbformat>=4.2.0->ipywidgets>=7.0.0->cufflinks) (0.16.0)\n",
      "Requirement already satisfied: attrs>=17.4.0 in /Users/shubhangi/opt/anaconda3/lib/python3.8/site-packages (from jsonschema!=2.5.0,>=2.4->nbformat>=4.2.0->ipywidgets>=7.0.0->cufflinks) (19.3.0)\n",
      "Requirement already satisfied: nbconvert in /Users/shubhangi/opt/anaconda3/lib/python3.8/site-packages (from notebook>=4.4.1->widgetsnbextension~=3.5.0->ipywidgets>=7.0.0->cufflinks) (5.6.1)\n",
      "Requirement already satisfied: prometheus-client in /Users/shubhangi/opt/anaconda3/lib/python3.8/site-packages (from notebook>=4.4.1->widgetsnbextension~=3.5.0->ipywidgets>=7.0.0->cufflinks) (0.8.0)\n",
      "Requirement already satisfied: jinja2 in /Users/shubhangi/opt/anaconda3/lib/python3.8/site-packages (from notebook>=4.4.1->widgetsnbextension~=3.5.0->ipywidgets>=7.0.0->cufflinks) (2.11.2)\n",
      "Requirement already satisfied: pyzmq>=17 in /Users/shubhangi/opt/anaconda3/lib/python3.8/site-packages (from notebook>=4.4.1->widgetsnbextension~=3.5.0->ipywidgets>=7.0.0->cufflinks) (19.0.1)\n",
      "Requirement already satisfied: Send2Trash in /Users/shubhangi/opt/anaconda3/lib/python3.8/site-packages (from notebook>=4.4.1->widgetsnbextension~=3.5.0->ipywidgets>=7.0.0->cufflinks) (1.5.0)\n",
      "Requirement already satisfied: terminado>=0.8.1 in /Users/shubhangi/opt/anaconda3/lib/python3.8/site-packages (from notebook>=4.4.1->widgetsnbextension~=3.5.0->ipywidgets>=7.0.0->cufflinks) (0.8.3)\n",
      "Requirement already satisfied: pandocfilters>=1.4.1 in /Users/shubhangi/opt/anaconda3/lib/python3.8/site-packages (from nbconvert->notebook>=4.4.1->widgetsnbextension~=3.5.0->ipywidgets>=7.0.0->cufflinks) (1.4.2)\n",
      "Requirement already satisfied: mistune<2,>=0.8.1 in /Users/shubhangi/opt/anaconda3/lib/python3.8/site-packages (from nbconvert->notebook>=4.4.1->widgetsnbextension~=3.5.0->ipywidgets>=7.0.0->cufflinks) (0.8.4)\n",
      "Requirement already satisfied: bleach in /Users/shubhangi/opt/anaconda3/lib/python3.8/site-packages (from nbconvert->notebook>=4.4.1->widgetsnbextension~=3.5.0->ipywidgets>=7.0.0->cufflinks) (3.1.5)\n",
      "Requirement already satisfied: defusedxml in /Users/shubhangi/opt/anaconda3/lib/python3.8/site-packages (from nbconvert->notebook>=4.4.1->widgetsnbextension~=3.5.0->ipywidgets>=7.0.0->cufflinks) (0.6.0)\n",
      "Requirement already satisfied: entrypoints>=0.2.2 in /Users/shubhangi/opt/anaconda3/lib/python3.8/site-packages (from nbconvert->notebook>=4.4.1->widgetsnbextension~=3.5.0->ipywidgets>=7.0.0->cufflinks) (0.3)\n",
      "Requirement already satisfied: testpath in /Users/shubhangi/opt/anaconda3/lib/python3.8/site-packages (from nbconvert->notebook>=4.4.1->widgetsnbextension~=3.5.0->ipywidgets>=7.0.0->cufflinks) (0.4.4)\n",
      "Requirement already satisfied: MarkupSafe>=0.23 in /Users/shubhangi/opt/anaconda3/lib/python3.8/site-packages (from jinja2->notebook>=4.4.1->widgetsnbextension~=3.5.0->ipywidgets>=7.0.0->cufflinks) (1.1.1)\n",
      "Requirement already satisfied: packaging in /Users/shubhangi/opt/anaconda3/lib/python3.8/site-packages (from bleach->nbconvert->notebook>=4.4.1->widgetsnbextension~=3.5.0->ipywidgets>=7.0.0->cufflinks) (20.4)\n",
      "Requirement already satisfied: webencodings in /Users/shubhangi/opt/anaconda3/lib/python3.8/site-packages (from bleach->nbconvert->notebook>=4.4.1->widgetsnbextension~=3.5.0->ipywidgets>=7.0.0->cufflinks) (0.5.1)\n",
      "Requirement already satisfied: pyparsing>=2.0.2 in /Users/shubhangi/opt/anaconda3/lib/python3.8/site-packages (from packaging->bleach->nbconvert->notebook>=4.4.1->widgetsnbextension~=3.5.0->ipywidgets>=7.0.0->cufflinks) (2.4.7)\n",
      "Building wheels for collected packages: cufflinks\n"
     ]
    },
    {
     "name": "stdout",
     "output_type": "stream",
     "text": [
      "  Building wheel for cufflinks (setup.py) ... \u001b[?25ldone\n",
      "\u001b[?25h  Created wheel for cufflinks: filename=cufflinks-0.17.3-py3-none-any.whl size=67921 sha256=586bfa4befd798b6558eed63ca3c262f41a9d771ef868616af13f38e13528f84\n",
      "  Stored in directory: /Users/shubhangi/Library/Caches/pip/wheels/6b/76/62/6da97734911ffcbdd559fd1a3f28526321f0ae699182a23866\n",
      "Successfully built cufflinks\n",
      "Installing collected packages: colorlover, cufflinks\n",
      "Successfully installed colorlover-0.3.0 cufflinks-0.17.3\n"
     ]
    }
   ],
   "source": [
    "!pip install cufflinks"
   ]
  },
  {
   "cell_type": "code",
   "execution_count": 6,
   "metadata": {},
   "outputs": [
    {
     "name": "stdout",
     "output_type": "stream",
     "text": [
      "Collecting chart_studio\n",
      "  Downloading chart_studio-1.1.0-py3-none-any.whl (64 kB)\n",
      "\u001b[K     |████████████████████████████████| 64 kB 1.2 MB/s eta 0:00:01\n",
      "\u001b[?25hCollecting retrying>=1.3.3\n",
      "  Downloading retrying-1.3.3.tar.gz (10 kB)\n",
      "Requirement already satisfied: plotly in /Users/shubhangi/opt/anaconda3/lib/python3.8/site-packages (from chart_studio) (5.3.1)\n",
      "Requirement already satisfied: six in /Users/shubhangi/opt/anaconda3/lib/python3.8/site-packages (from chart_studio) (1.15.0)\n",
      "Requirement already satisfied: requests in /Users/shubhangi/opt/anaconda3/lib/python3.8/site-packages (from chart_studio) (2.27.1)\n",
      "Requirement already satisfied: tenacity>=6.2.0 in /Users/shubhangi/opt/anaconda3/lib/python3.8/site-packages (from plotly->chart_studio) (8.0.1)\n",
      "Requirement already satisfied: certifi>=2017.4.17 in /Users/shubhangi/opt/anaconda3/lib/python3.8/site-packages (from requests->chart_studio) (2020.6.20)\n",
      "Requirement already satisfied: urllib3<1.27,>=1.21.1 in /Users/shubhangi/opt/anaconda3/lib/python3.8/site-packages (from requests->chart_studio) (1.26.8)\n",
      "Requirement already satisfied: charset-normalizer~=2.0.0; python_version >= \"3\" in /Users/shubhangi/opt/anaconda3/lib/python3.8/site-packages (from requests->chart_studio) (2.0.11)\n",
      "Requirement already satisfied: idna<4,>=2.5; python_version >= \"3\" in /Users/shubhangi/opt/anaconda3/lib/python3.8/site-packages (from requests->chart_studio) (2.10)\n",
      "Building wheels for collected packages: retrying\n",
      "  Building wheel for retrying (setup.py) ... \u001b[?25ldone\n",
      "\u001b[?25h  Created wheel for retrying: filename=retrying-1.3.3-py3-none-any.whl size=11430 sha256=fa450f6814722b14ad775706a4d9c6666f1323fcab4d9f4f67260b29834ecac2\n",
      "  Stored in directory: /Users/shubhangi/Library/Caches/pip/wheels/c4/a7/48/0a434133f6d56e878ca511c0e6c38326907c0792f67b476e56\n",
      "Successfully built retrying\n",
      "Installing collected packages: retrying, chart-studio\n",
      "Successfully installed chart-studio-1.1.0 retrying-1.3.3\n"
     ]
    }
   ],
   "source": [
    "!pip install chart_studio\n"
   ]
  },
  {
   "cell_type": "code",
   "execution_count": 5,
   "metadata": {},
   "outputs": [
    {
     "name": "stdout",
     "output_type": "stream",
     "text": [
      "Requirement already satisfied: plotly in /Users/shubhangi/opt/anaconda3/lib/python3.8/site-packages (5.3.1)\r\n",
      "Requirement already satisfied: tenacity>=6.2.0 in /Users/shubhangi/opt/anaconda3/lib/python3.8/site-packages (from plotly) (8.0.1)\r\n",
      "Requirement already satisfied: six in /Users/shubhangi/opt/anaconda3/lib/python3.8/site-packages (from plotly) (1.15.0)\r\n"
     ]
    }
   ],
   "source": [
    "!pip install plotly"
   ]
  },
  {
   "cell_type": "code",
   "execution_count": 22,
   "metadata": {},
   "outputs": [],
   "source": [
    "import pandas as pd\n",
    "import numpy as np\n",
    "import matplotlib.pyplot as plt\n",
    "import mplfinance as mpf\n",
    "import datetime \n",
    "from dateutil.relativedelta import relativedelta\n",
    "%matplotlib qt"
   ]
  },
  {
   "cell_type": "code",
   "execution_count": 2,
   "metadata": {},
   "outputs": [],
   "source": [
    "eodData = pd.read_csv(r'/Users/shubhangi/DeepDocuments/Trading/NSEData/NSEBhavCopy.csv', low_memory=False)\n",
    "oiData = pd.read_csv(r'/Users/shubhangi/DeepDocuments/Trading/NSEData/oiData.csv', low_memory=False)\n",
    "index = pd.read_csv(r'/Users/shubhangi/DeepDocuments/Trading/NSEData/index.csv', low_memory=False)"
   ]
  },
  {
   "cell_type": "code",
   "execution_count": 56,
   "metadata": {},
   "outputs": [],
   "source": [
    "def bolingerBandLower(arr):\n",
    "    global sigma\n",
    "    ma = np.mean(arr)\n",
    "    std = np.std(arr)\n",
    "    return ma - sigma * std\n",
    "\n",
    "def bolingerBandUpper(arr):\n",
    "    global sigma \n",
    "    ma = np.mean(arr)\n",
    "    std = np.std(arr)\n",
    "    return ma + sigma * std\n",
    "period = 5\n",
    "sigma = 2\n",
    "\n",
    "    \n",
    "\n",
    "for script in eodData.Symbol.unique():\n",
    "    to_date = datetime.date.today()\n",
    "    from_date = datetime.date.today()- relativedelta(days=180)\n",
    "    scriptEodData = eodData.loc[eodData.Symbol==script,:]\n",
    "    scriptEodData['Date'] = pd.to_datetime(scriptEodData['Date'])\n",
    "    scriptEodData.set_index('Date',inplace=True)\n",
    "    scriptEodData['VolumePerTrade_bbl'] = scriptEodData.VolumePerTrade.rolling(window=period).apply(bolingerBandLower, raw=True)\n",
    "    scriptEodData['VolumePerTrade_ma'] = scriptEodData.VolumePerTrade.rolling(window=period).mean()\n",
    "    scriptEodData['VolumePerTrade_bbu'] = scriptEodData.VolumePerTrade.rolling(window=period).apply(bolingerBandUpper, raw=True)\n",
    "    \n",
    "    scriptEodData['%Deliverble_bbl'] = scriptEodData['%Deliverble'].rolling(window=period).apply(bolingerBandLower, raw=True)\n",
    "    scriptEodData['%Deliverble_ma'] = scriptEodData['%Deliverble'].rolling(window=period).mean()\n",
    "    scriptEodData['%Deliverble_bbu'] = scriptEodData['%Deliverble'].rolling(window=period).apply(bolingerBandUpper, raw=True)\n",
    "    \n",
    "    \n",
    "    scriptEodData = scriptEodData.loc[scriptEodData.index.date>from_date,:]\n",
    "    \n",
    "    fig = plt.figure(figsize=(12,10))\n",
    "\n",
    "    price_ax = plt.subplot(3,1,1)\n",
    "    plt.xticks(rotation=0)\n",
    "    \n",
    "    mpf.plot(scriptEodData[['Open', 'High', 'Low', 'Close','Volume']],\n",
    "             type=\"candle\",style='yahoo', ax=price_ax,addplot=[mpf.make_addplot(scriptEodData[['VWAP']],\n",
    "                                                                                ax=price_ax,\n",
    "                                                                                color='blue',\n",
    "                                                                                linestyle='-.')])\n",
    "    plt.xticks(rotation=0)\n",
    "    volPrTd_ax = plt.subplot(3,1,2 )\n",
    "    volPrTd_ax.plot(scriptEodData['VolumePerTrade_bbl'],color='lightcoral',linestyle='-.',label=(f\"%d sigma lower Band\")%sigma)\n",
    "    volPrTd_ax.plot(scriptEodData['VolumePerTrade_ma'],color='lightsteelblue',linestyle='-.',label=(f\"%d Day MA\"%period)) \n",
    "    volPrTd_ax.plot(scriptEodData['VolumePerTrade_bbu'],color='lightgreen',linestyle='-.',label=(f\"%d sigma upper Band\"%sigma))\n",
    "    volPrTd_ax.plot(scriptEodData['VolumePerTrade'],color='black',label='Volume per Trade')\n",
    "    volPrTd_ax.legend(loc=\"upper left\")\n",
    "    volPrTd_ax.yaxis.tick_right()\n",
    "\n",
    "    \n",
    "    delvPct_ax = plt.subplot(3,1,3 )\n",
    "    delvPct_ax.plot(scriptEodData['%Deliverble_bbl']*100,color='lightcoral',linestyle='-.',label=(f\"%d sigma lower Band\")%sigma)\n",
    "    delvPct_ax.plot(scriptEodData['%Deliverble_ma']*100,color='lightsteelblue',linestyle='-.',label=(f\"%d Day MA\"%period)) \n",
    "    delvPct_ax.plot(scriptEodData['%Deliverble_bbu']*100,color='lightgreen',linestyle='-.',label=(f\"%d sigma upper Band\"%sigma))\n",
    "    delvPct_ax.plot(scriptEodData['%Deliverble']*100,color='black',label='%Deliverble')\n",
    "    delvPct_ax.legend(loc=\"upper left\")\n",
    "    delvPct_ax.yaxis.tick_right()\n",
    "    \n",
    "    \n",
    "    \n",
    "    \n",
    "    \n",
    "    \n",
    "    \n",
    "    \n",
    "    \n",
    "    \n",
    "    \n",
    "\n",
    "\n",
    "    break\n",
    "    "
   ]
  },
  {
   "cell_type": "code",
   "execution_count": 58,
   "metadata": {},
   "outputs": [
    {
     "data": {
      "text/plain": [
       "<matplotlib.axis.YAxis at 0x7fa8bcf81ac0>"
      ]
     },
     "execution_count": 58,
     "metadata": {},
     "output_type": "execute_result"
    }
   ],
   "source": [
    "price_ax.yaxis"
   ]
  },
  {
   "cell_type": "code",
   "execution_count": 59,
   "metadata": {},
   "outputs": [
    {
     "data": {
      "text/plain": [
       "datetime.date(2022, 6, 21)"
      ]
     },
     "execution_count": 59,
     "metadata": {},
     "output_type": "execute_result"
    }
   ],
   "source": [
    "datetime.date.today()+  relativedelta(month=6)"
   ]
  },
  {
   "cell_type": "code",
   "execution_count": 61,
   "metadata": {},
   "outputs": [
    {
     "data": {
      "text/plain": [
       "datetime.date(2021, 8, 25)"
      ]
     },
     "execution_count": 61,
     "metadata": {},
     "output_type": "execute_result"
    }
   ],
   "source": [
    "datetime.date.today()- relativedelta(days=180)"
   ]
  },
  {
   "cell_type": "code",
   "execution_count": null,
   "metadata": {},
   "outputs": [],
   "source": []
  }
 ],
 "metadata": {
  "kernelspec": {
   "display_name": "Python 3",
   "language": "python",
   "name": "python3"
  },
  "language_info": {
   "codemirror_mode": {
    "name": "ipython",
    "version": 3
   },
   "file_extension": ".py",
   "mimetype": "text/x-python",
   "name": "python",
   "nbconvert_exporter": "python",
   "pygments_lexer": "ipython3",
   "version": "3.8.3"
  }
 },
 "nbformat": 4,
 "nbformat_minor": 4
}
