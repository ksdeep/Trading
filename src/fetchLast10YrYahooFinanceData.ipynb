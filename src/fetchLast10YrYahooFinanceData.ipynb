{
 "cells": [
  {
   "cell_type": "code",
   "execution_count": 1,
   "metadata": {},
   "outputs": [],
   "source": [
    "import pandas as pd\n",
    "import yfinance as yf\n",
    "import datetime as dt\n",
    "from dateutil.relativedelta import relativedelta, TH\n",
    "import talib as ta\n",
    "import matplotlib.pyplot as plt\n",
    "import mplfinance as mpf\n",
    "import numpy as np\n",
    "%matplotlib qt"
   ]
  },
  {
   "cell_type": "code",
   "execution_count": 2,
   "metadata": {},
   "outputs": [],
   "source": [
    "def getNifty500():\n",
    "\n",
    "    nList = \"nifty500\"\n",
    "    url = \"https://archives.nseindia.com/content/indices/ind_\" + nList + \"list.csv\"\n",
    "\n",
    "    return pd.read_csv(url)\n",
    "\n",
    "\n",
    "index = getNifty500()"
   ]
  },
  {
   "cell_type": "code",
   "execution_count": 3,
   "metadata": {},
   "outputs": [
    {
     "name": "stdout",
     "output_type": "stream",
     "text": [
      "[*********************100%***********************]  501 of 501 completed\n"
     ]
    }
   ],
   "source": [
    "start_date = dt.date.today() - relativedelta(years = 10)\n",
    "end_date =dt.date.today()\n",
    "l = list(index.Symbol)\n",
    "l.append('')\n",
    "lst = '.NS '.join(l)\n",
    "correctedEODData =yf.download(lst,period='max',\n",
    "                              interval='1d',\n",
    "                              progress=True,\n",
    "                              threads = True,\n",
    "                              auto_adjust=True)"
   ]
  },
  {
   "cell_type": "code",
   "execution_count": 4,
   "metadata": {},
   "outputs": [],
   "source": [
    "correctedEODData = correctedEODData.stack(level=1).rename_axis(['Date', 'Ticker']).reset_index()"
   ]
  },
  {
   "cell_type": "code",
   "execution_count": 5,
   "metadata": {},
   "outputs": [],
   "source": [
    "correctedEODData = correctedEODData.dropna(axis=1)"
   ]
  },
  {
   "cell_type": "code",
   "execution_count": 6,
   "metadata": {},
   "outputs": [],
   "source": [
    "correctedEODData.Ticker = correctedEODData.Ticker.apply(lambda x :x.split('.')[0])"
   ]
  },
  {
   "cell_type": "code",
   "execution_count": 7,
   "metadata": {},
   "outputs": [
    {
     "name": "stdout",
     "output_type": "stream",
     "text": [
      "[*********************100%***********************]  13 of 13 completed\n"
     ]
    }
   ],
   "source": [
    "otherImp = {'^NSEI':'NIFTY',\n",
    "                '^NSEBANK':'BANK_NIFTY',\n",
    "                'GC=F':'GOLD',\n",
    "                'INR=X':'USDINR',\n",
    "                'CL=F':'CRUDE_OIL',\n",
    "                'SI=F':'SILVER',\n",
    "                'BTC-USD':'BITCOIN',\n",
    "        'IBN':'ICICI_US_ADR',\n",
    "        'HDB':'HDFC_US_ADR',\n",
    "        'INFY':'INFOSYS_US_ADR',\n",
    "        'WIT':'WIPRO_US_ADR',\n",
    "        'TTM':'TATAMOTORS_US_ADR',\n",
    "        'RDY':'DR_REDDY_US_ADR'} \n",
    "\n",
    "correctedEODDataIndx =yf.download(' '.join(list(otherImp.keys())),\n",
    "                                period='max',\n",
    "                                interval='1d',\n",
    "                                progress=True,\n",
    "                                threads = True,\n",
    "                                auto_adjust=True)"
   ]
  },
  {
   "cell_type": "code",
   "execution_count": 8,
   "metadata": {},
   "outputs": [],
   "source": [
    "correctedEODDataIndx = correctedEODDataIndx.stack(level=1).rename_axis(['Date', 'Ticker']).reset_index()"
   ]
  },
  {
   "cell_type": "code",
   "execution_count": 9,
   "metadata": {},
   "outputs": [],
   "source": [
    "correctedEODDataIndx.Ticker = correctedEODDataIndx.Ticker.map(otherImp)\n",
    "correctedEODDataIndx = correctedEODDataIndx.dropna(axis=1)"
   ]
  },
  {
   "cell_type": "code",
   "execution_count": 10,
   "metadata": {},
   "outputs": [],
   "source": [
    "allEodData = pd.concat([correctedEODDataIndx,correctedEODData])"
   ]
  },
  {
   "cell_type": "code",
   "execution_count": 11,
   "metadata": {},
   "outputs": [],
   "source": [
    "allEodData['Date'] = allEodData.Date.apply(lambda x : x.strftime('%Y%m%d'))"
   ]
  },
  {
   "cell_type": "code",
   "execution_count": 12,
   "metadata": {},
   "outputs": [],
   "source": [
    "allEodData.to_csv(r'C:\\Users\\ksdee\\Documents\\PersonalFinance\\Trading\\Trading_Data\\NSEData\\correctedEODDataYF.csv',index=False)"
   ]
  },
  {
   "cell_type": "code",
   "execution_count": 13,
   "metadata": {},
   "outputs": [
    {
     "data": {
      "text/plain": [
       "Series([], Name: Date, dtype: object)"
      ]
     },
     "execution_count": 13,
     "metadata": {},
     "output_type": "execute_result"
    }
   ],
   "source": [
    "allEodData.loc[correctedEODData.Ticker=='LEMONTREE','Date']"
   ]
  },
  {
   "cell_type": "code",
   "execution_count": 14,
   "metadata": {},
   "outputs": [
    {
     "name": "stdout",
     "output_type": "stream",
     "text": [
      "[*********************100%***********************]  4 of 4 completed\n"
     ]
    }
   ],
   "source": [
    "start_date = dt.date.today() - relativedelta(years = 10)\n",
    "end_date =dt.date.today()\n",
    "lst = '.NS '.join(['GNFC','CAMS','BANDHANBNK','POWERGRID',''])\n",
    "correctedEODData =yf.download(lst,period='max',\n",
    "                              interval='1mo',\n",
    "                              progress=True,\n",
    "                              threads = True,\n",
    "                              auto_adjust=True)\n",
    "correctedEODData = correctedEODData.stack(level=1).rename_axis(['Date', 'Ticker']).reset_index()\n",
    "correctedEODData = correctedEODData.dropna(axis=1)\n",
    "correctedEODData.Ticker = correctedEODData.Ticker.apply(lambda x :x.split('.')[0])\n",
    "correctedEODData.to_csv(r'C:\\Users\\ksdee\\Downloads\\correctedEODDataYF.csv')"
   ]
  },
  {
   "cell_type": "code",
   "execution_count": 15,
   "metadata": {},
   "outputs": [],
   "source": [
    "import nsepy as npy\n",
    "import datetime\n",
    "import re\n",
    "start_date = datetime.date(2020,1,1)\n",
    "end_date = datetime.date.today()\n",
    "symbols = ['EBBETF0430','NIFTYBEES','GOLDBEES','JUNIORBEES']\n",
    "ohlc_data = pd.DataFrame()\n",
    "for symbol in symbols:\n",
    "    ohlc_data = ohlc_data.append(npy.get_history(\n",
    "    symbol=re.sub(\"&\", \"%26\", symbol), start=start_date, end=end_date\n",
    "    ).reset_index())"
   ]
  },
  {
   "cell_type": "code",
   "execution_count": 16,
   "metadata": {},
   "outputs": [],
   "source": [
    "ohlc_data.to_csv(r'C:\\Users\\ksdee\\Downloads\\correctedEODDataYF.csv')"
   ]
  },
  {
   "cell_type": "code",
   "execution_count": null,
   "metadata": {},
   "outputs": [],
   "source": []
  }
 ],
 "metadata": {
  "interpreter": {
   "hash": "fa7ac312eee2d3f34445b88952495f755f80aeb042a483e442de463bea4c9017"
  },
  "kernelspec": {
   "display_name": "Python 3 (ipykernel)",
   "language": "python",
   "name": "python3"
  },
  "language_info": {
   "codemirror_mode": {
    "name": "ipython",
    "version": 3
   },
   "file_extension": ".py",
   "mimetype": "text/x-python",
   "name": "python",
   "nbconvert_exporter": "python",
   "pygments_lexer": "ipython3",
   "version": "3.8.8"
  }
 },
 "nbformat": 4,
 "nbformat_minor": 2
}
