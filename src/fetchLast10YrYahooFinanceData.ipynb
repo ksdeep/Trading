{
 "cells": [
  {
   "cell_type": "code",
   "execution_count": 1,
   "metadata": {},
   "outputs": [],
   "source": [
    "import pandas as pd\n",
    "import yfinance as yf\n",
    "import datetime as dt\n",
    "from dateutil.relativedelta import relativedelta, TH\n",
    "import talib as ta\n",
    "import matplotlib.pyplot as plt\n",
    "import mplfinance as mpf\n",
    "import numpy as np\n",
    "%matplotlib qt"
   ]
  },
  {
   "cell_type": "code",
   "execution_count": 2,
   "metadata": {},
   "outputs": [],
   "source": [
    "def getNifty500():\n",
    "\n",
    "    nList = \"nifty500\"\n",
    "    url = \"https://archives.nseindia.com/content/indices/ind_\" + nList + \"list.csv\"\n",
    "\n",
    "    return pd.read_csv(url)\n",
    "\n",
    "\n",
    "index = getNifty500()"
   ]
  },
  {
   "cell_type": "code",
   "execution_count": 3,
   "metadata": {},
   "outputs": [
    {
     "name": "stdout",
     "output_type": "stream",
     "text": [
      "[*********************100%***********************]  501 of 501 completed\n",
      "\n",
      "1 Failed download:\n",
      "- ECLERX: No data found, symbol may be delisted\n"
     ]
    }
   ],
   "source": [
    "start_date = dt.date.today() - relativedelta(years = 10)\n",
    "end_date =dt.date.today()\n",
    "lst = '.NS '.join(index.Symbol)\n",
    "correctedEODData =yf.download(lst,period='max',\n",
    "                              interval='1d',\n",
    "                              progress=True,\n",
    "                              threads = True,\n",
    "                              auto_adjust=True)"
   ]
  },
  {
   "cell_type": "code",
   "execution_count": 4,
   "metadata": {},
   "outputs": [],
   "source": [
    "correctedEODData = correctedEODData.stack(level=1).rename_axis(['Date', 'Ticker']).reset_index()"
   ]
  },
  {
   "cell_type": "code",
   "execution_count": 5,
   "metadata": {},
   "outputs": [],
   "source": [
    "correctedEODData = correctedEODData.dropna(axis=1)"
   ]
  },
  {
   "cell_type": "code",
   "execution_count": 6,
   "metadata": {},
   "outputs": [],
   "source": [
    "correctedEODData.Ticker = correctedEODData.Ticker.apply(lambda x :x.split('.')[0])"
   ]
  },
  {
   "cell_type": "code",
   "execution_count": 7,
   "metadata": {},
   "outputs": [
    {
     "name": "stdout",
     "output_type": "stream",
     "text": [
      "[*********************100%***********************]  13 of 13 completed\n"
     ]
    }
   ],
   "source": [
    "otherImp = {'^NSEI':'NIFTY',\n",
    "                '^NSEBANK':'BANK_NIFTY',\n",
    "                'GC=F':'GOLD',\n",
    "                'INR=X':'USDINR',\n",
    "                'CL=F':'CRUDE_OIL',\n",
    "                'SI=F':'SILVER',\n",
    "                'BTC-USD':'BITCOIN',\n",
    "        'IBN':'ICICI_US_ADR',\n",
    "        'HDB':'HDFC_US_ADR',\n",
    "        'INFY':'INFOSYS_US_ADR',\n",
    "        'WIT':'WIPRO_US_ADR',\n",
    "        'TTM':'TATAMOTORS_US_ADR',\n",
    "        'RDY':'DR_REDDY_US_ADR'} \n",
    "\n",
    "correctedEODDataIndx =yf.download(' '.join(list(otherImp.keys())),\n",
    "                                period='max',\n",
    "                                interval='1d',\n",
    "                                progress=True,\n",
    "                                threads = True,\n",
    "                                auto_adjust=True)"
   ]
  },
  {
   "cell_type": "code",
   "execution_count": 8,
   "metadata": {},
   "outputs": [],
   "source": [
    "correctedEODDataIndx = correctedEODDataIndx.stack(level=1).rename_axis(['Date', 'Ticker']).reset_index()"
   ]
  },
  {
   "cell_type": "code",
   "execution_count": 9,
   "metadata": {},
   "outputs": [],
   "source": [
    "correctedEODDataIndx.Ticker = correctedEODDataIndx.Ticker.map(otherImp)\n",
    "correctedEODDataIndx = correctedEODDataIndx.dropna(axis=1)"
   ]
  },
  {
   "cell_type": "code",
   "execution_count": 10,
   "metadata": {},
   "outputs": [],
   "source": [
    "allEodData = pd.concat([correctedEODDataIndx,correctedEODData])"
   ]
  },
  {
   "cell_type": "code",
   "execution_count": 11,
   "metadata": {},
   "outputs": [],
   "source": [
    "allEodData['Date'] = allEodData.Date.apply(lambda x : x.strftime('%Y%m%d'))"
   ]
  },
  {
   "cell_type": "code",
   "execution_count": 12,
   "metadata": {},
   "outputs": [],
   "source": [
    "allEodData.to_csv(r'C:\\Users\\ksdee\\Documents\\PersonalFinance\\Trading\\Trading_Data\\NSEData\\correctedEODDataYF.csv',index=False)"
   ]
  },
  {
   "cell_type": "code",
   "execution_count": 13,
   "metadata": {},
   "outputs": [
    {
     "data": {
      "text/plain": [
       "'20220312'"
      ]
     },
     "execution_count": 13,
     "metadata": {},
     "output_type": "execute_result"
    }
   ],
   "source": [
    "allEodData.Date.max()"
   ]
  },
  {
   "cell_type": "code",
   "execution_count": null,
   "metadata": {},
   "outputs": [],
   "source": []
  }
 ],
 "metadata": {
  "interpreter": {
   "hash": "fa7ac312eee2d3f34445b88952495f755f80aeb042a483e442de463bea4c9017"
  },
  "kernelspec": {
   "display_name": "Python 3 (ipykernel)",
   "language": "python",
   "name": "python3"
  },
  "language_info": {
   "codemirror_mode": {
    "name": "ipython",
    "version": 3
   },
   "file_extension": ".py",
   "mimetype": "text/x-python",
   "name": "python",
   "nbconvert_exporter": "python",
   "pygments_lexer": "ipython3",
   "version": "3.8.8"
  }
 },
 "nbformat": 4,
 "nbformat_minor": 2
}
