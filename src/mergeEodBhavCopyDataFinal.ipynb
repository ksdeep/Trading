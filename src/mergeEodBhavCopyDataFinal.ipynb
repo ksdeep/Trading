{
 "cells": [
  {
   "cell_type": "code",
   "execution_count": 1,
   "metadata": {},
   "outputs": [],
   "source": [
    "%load_ext lab_black"
   ]
  },
  {
   "cell_type": "code",
   "execution_count": 2,
   "metadata": {},
   "outputs": [],
   "source": [
    "import pandas as pd\n",
    "import requests\n",
    "import os\n",
    "import sys\n",
    "import datetime\n",
    "import numpy as np\n",
    "import re\n",
    "import logging\n",
    "\n",
    "logging.basicConfig(\n",
    "    format=\"Date-Time : %(asctime)s : Line No. : %(lineno)d - %(message)s\",\n",
    "    level=logging.INFO,\n",
    ")\n",
    "logger = logging.getLogger()\n",
    "from joblib import Parallel, delayed\n",
    "\n",
    "num_cores = 4\n",
    "from tqdm import tqdm\n",
    "\n",
    "rawBhavCopyDataFldr = (\n",
    "    r\"C:\\Users\\ksdee\\Documents\\PersonalFinance\\Trading\\getbhavcopy\\data\"\n",
    ")\n",
    "rawBhavCopyFutureDataFldr = (\n",
    "    r\"C:\\Users\\ksdee\\Documents\\PersonalFinance\\Trading\\getbhavcopy\\data\\futures\"\n",
    ")\n",
    "bhavCopyToolFl = r\"C:\\Users\\ksdee\\Documents\\PersonalFinance\\Trading\\Trading_Data\\NSEData\\bhavCopyTool.csv\"\n",
    "bhavCopyToolFutureFl = r\"C:\\Users\\ksdee\\Documents\\PersonalFinance\\Trading\\Trading_Data\\NSEData\\bhavCopyToolFuture.csv\""
   ]
  },
  {
   "cell_type": "code",
   "execution_count": 3,
   "metadata": {},
   "outputs": [
    {
     "name": "stderr",
     "output_type": "stream",
     "text": [
      "Date-Time : 2022-04-22 20:44:34,774 : Line No. : 23 - processing for 2022-04-22-NSE-EQ.txt\n",
      "Date-Time : 2022-04-22 20:44:34,786 : Line No. : 23 - processing for futures\n"
     ]
    }
   ],
   "source": [
    "cols = [\n",
    "    \"filename\",\n",
    "    \"symbol\",\n",
    "    \"date\",\n",
    "    \"open\",\n",
    "    \"high\",\n",
    "    \"low\",\n",
    "    \"close\",\n",
    "    \"volume\",\n",
    "    \"delivery\",\n",
    "]\n",
    "try:\n",
    "    df = pd.read_csv(bhavCopyToolFl)\n",
    "    df[\"date\"] = pd.to_datetime(df[\"date\"]).apply(lambda x: x.date())\n",
    "    # df = df.loc[df.date < datetime.date(2022, 3, 4), :]\n",
    "except:\n",
    "    df = pd.DataFrame(columns=cols)\n",
    "existingFiles = list(df.filename.values)\n",
    "\n",
    "\n",
    "def readBhavCopyFiles(fl):\n",
    "    global existingFiles, rawBhavCopyDataFldr, logger\n",
    "    logger.info(f\"processing for {fl}\")\n",
    "    temp = pd.DataFrame(columns=cols)\n",
    "    if os.path.isfile(rawBhavCopyDataFldr + os.path.sep + fl):\n",
    "        if fl in existingFiles:\n",
    "            return temp\n",
    "        else:\n",
    "            ff = open(rawBhavCopyDataFldr + os.path.sep + fl, \"rb\")\n",
    "            lines = ff.readlines()\n",
    "            cnt = 0\n",
    "            for ln in lines:\n",
    "                if cnt == 0:\n",
    "                    cnt += 1\n",
    "                    continue\n",
    "                else:\n",
    "                    cnt += 1\n",
    "                    try:\n",
    "                        x = str(ln.strip()).split(\",\")\n",
    "                        filename = fl\n",
    "                        symbol = x[0][2:]\n",
    "                        date = datetime.datetime.strptime(x[1], \"%Y%m%d\")\n",
    "                        openPrice = float(x[2])\n",
    "                        high = float(x[3])\n",
    "                        low = float(x[4])\n",
    "                        close = float(x[5])\n",
    "                        volume = int(re.sub(\"[^0-9]\", \"0\", x[6]))\n",
    "                        delivery = int(re.sub(\"[^0-9]\", \"0\", x[7]))\n",
    "                        temp = temp.append(\n",
    "                            pd.DataFrame(\n",
    "                                {\n",
    "                                    \"filename\": [filename],\n",
    "                                    \"symbol\": [symbol],\n",
    "                                    \"date\": [date],\n",
    "                                    \"open\": [openPrice],\n",
    "                                    \"high\": high,\n",
    "                                    \"low\": [low],\n",
    "                                    \"close\": [close],\n",
    "                                    \"volume\": [volume],\n",
    "                                    \"delivery\": [delivery],\n",
    "                                }\n",
    "                            )\n",
    "                        )\n",
    "                    except:\n",
    "                        None\n",
    "            return temp\n",
    "\n",
    "\n",
    "flist = pd.Series(os.listdir(rawBhavCopyDataFldr))\n",
    "flist = flist[~flist.isin(existingFiles)]\n",
    "result = Parallel(n_jobs=num_cores, backend=\"threading\")(\n",
    "    delayed(readBhavCopyFiles)(fl) for fl in flist\n",
    ")\n",
    "try:\n",
    "    df = df.append(pd.concat(result))\n",
    "    df.to_csv(bhavCopyToolFl, index=False)\n",
    "except:\n",
    "    logger.error(\"error 1\")"
   ]
  },
  {
   "cell_type": "code",
   "execution_count": 4,
   "metadata": {},
   "outputs": [
    {
     "name": "stderr",
     "output_type": "stream",
     "text": [
      "Date-Time : 2022-04-22 20:45:06,048 : Line No. : 18 - processing for 2022-04-22-NSE-FO.txt\n"
     ]
    }
   ],
   "source": [
    "colFtr = [\"filename\", \"symbol\", \"date\", \"open\", \"high\", \"low\", \"close\", \"volume\", \"OI\"]\n",
    "try:\n",
    "    df = pd.read_csv(bhavCopyToolFutureFl)\n",
    "    df[\"date\"] = pd.to_datetime(df[\"date\"]).apply(lambda x: x.date())\n",
    "except:\n",
    "    df = pd.DataFrame(columns=colFtr)\n",
    "\n",
    "existingFiles = list(df.filename.values)\n",
    "\n",
    "\n",
    "def readBhavCopyFiles(fl):\n",
    "    global existingFiles, rawBhavCopyFutureDataFldr, logger, colFtr\n",
    "    temp = pd.DataFrame(columns=colFtr)\n",
    "    if os.path.isfile(rawBhavCopyFutureDataFldr + os.path.sep + fl):\n",
    "        if fl in existingFiles:\n",
    "            return temp\n",
    "        else:\n",
    "            logger.info(f\"processing for {fl}\")\n",
    "            ff = open(rawBhavCopyFutureDataFldr + os.path.sep + fl, \"rb\")\n",
    "            lines = ff.readlines()\n",
    "            cnt = 0\n",
    "            for ln in lines:\n",
    "                if cnt == 0:\n",
    "                    cnt += 1\n",
    "                    continue\n",
    "                else:\n",
    "                    cnt += 1\n",
    "                    try:\n",
    "                        x = str(ln.strip()).split(\",\")\n",
    "                        filename = fl\n",
    "                        symbol = x[0][2:]\n",
    "                        date = datetime.datetime.strptime(x[1], \"%Y%m%d\")\n",
    "                        openPrice = float(x[2])\n",
    "                        high = float(x[3])\n",
    "                        low = float(x[4])\n",
    "                        close = float(x[5])\n",
    "                        volume = int(x[6].split(\".\")[0])\n",
    "                        delivery = int(re.sub(\"[^0-9]\", \"\", x[7].split(\".\")[0]))\n",
    "                        temp = temp.append(\n",
    "                            pd.DataFrame(\n",
    "                                {\n",
    "                                    \"filename\": [filename],\n",
    "                                    \"symbol\": [symbol],\n",
    "                                    \"date\": [date],\n",
    "                                    \"open\": [openPrice],\n",
    "                                    \"high\": high,\n",
    "                                    \"low\": [low],\n",
    "                                    \"close\": [close],\n",
    "                                    \"volume\": [volume],\n",
    "                                    \"OI\": [delivery],\n",
    "                                }\n",
    "                            )\n",
    "                        )\n",
    "                    except:\n",
    "                        logger.error(f\"Partse Error {ln}\")\n",
    "                        None\n",
    "            return temp\n",
    "\n",
    "\n",
    "flist = pd.Series(os.listdir(rawBhavCopyFutureDataFldr))\n",
    "flist = flist[~flist.isin(existingFiles)]\n",
    "result = Parallel(n_jobs=num_cores, backend=\"threading\")(\n",
    "    delayed(readBhavCopyFiles)(fl) for fl in flist\n",
    ")\n",
    "try:\n",
    "    result = pd.concat(result)\n",
    "    result[\"symbol\"] = result.symbol.apply(lambda x: x.split(\"-\")[0].strip())\n",
    "    result = (\n",
    "        result.groupby([\"filename\", \"symbol\", \"date\"])\n",
    "        .agg(\n",
    "            {\n",
    "                \"open\": np.mean,\n",
    "                \"high\": np.mean,\n",
    "                \"low\": np.mean,\n",
    "                \"close\": np.mean,\n",
    "                \"volume\": np.sum,\n",
    "                \"OI\": np.sum,\n",
    "            }\n",
    "        )\n",
    "        .reset_index()\n",
    "    )\n",
    "\n",
    "    df = df.append(result)\n",
    "    df.to_csv(bhavCopyToolFutureFl, index=False)\n",
    "except:\n",
    "    logger.error(\"error 1\")"
   ]
  },
  {
   "cell_type": "code",
   "execution_count": 5,
   "metadata": {},
   "outputs": [],
   "source": [
    "def getNifty500():\n",
    "\n",
    "    nList = \"nifty500\"\n",
    "    url = \"https://archives.nseindia.com/content/indices/ind_\" + nList + \"list.csv\"\n",
    "\n",
    "    return pd.read_csv(url)\n",
    "\n",
    "\n",
    "currNifty500 = getNifty500()"
   ]
  },
  {
   "cell_type": "code",
   "execution_count": 6,
   "metadata": {},
   "outputs": [],
   "source": [
    "symbolChange = pd.read_csv(\n",
    "    \"https://www1.nseindia.com/content/equities/symbolchange.csv\",\n",
    "    encoding=\"ISO-8859-1\",\n",
    "    engine=\"python\",\n",
    ")\n",
    "symbolChange.columns = [\n",
    "    \"SYMB_COMPANY_NAME\",\n",
    "    \"SM_KEY_SYMBOL\",\n",
    "    \"SM_NEW_SYMBOL\",\n",
    "    \"SM_APPLICABLE_FROM\",\n",
    "]\n",
    "symbolChange[\"SM_APPLICABLE_FROM\"] = pd.to_datetime(\n",
    "    symbolChange[\"SM_APPLICABLE_FROM\"]\n",
    ").apply(lambda x: x.date())"
   ]
  },
  {
   "cell_type": "code",
   "execution_count": 7,
   "metadata": {},
   "outputs": [],
   "source": [
    "future = pd.read_csv(bhavCopyToolFutureFl)\n",
    "future[\"date\"] = pd.to_datetime(future[\"date\"]).apply(lambda x: x.date())\n",
    "dfStocks = pd.read_csv(bhavCopyToolFl)\n",
    "dfStocks[\"date\"] = pd.to_datetime(dfStocks[\"date\"]).apply(lambda x: x.date())"
   ]
  },
  {
   "cell_type": "code",
   "execution_count": 8,
   "metadata": {},
   "outputs": [],
   "source": [
    "symbolChange = symbolChange.loc[\n",
    "    symbolChange.SM_APPLICABLE_FROM <= datetime.date.today(), :\n",
    "]\n",
    "symbolChange.sort_values(by=[\"SM_APPLICABLE_FROM\"], ascending=True, inplace=True)\n",
    "for _, row in symbolChange.iterrows():\n",
    "    dfStocks.symbol.replace(\n",
    "        to_replace=row[\"SM_KEY_SYMBOL\"], value=row[\"SM_NEW_SYMBOL\"], inplace=True\n",
    "    )\n",
    "    future.symbol.replace(\n",
    "        to_replace=row[\"SM_KEY_SYMBOL\"], value=row[\"SM_NEW_SYMBOL\"], inplace=True\n",
    "    )"
   ]
  },
  {
   "cell_type": "code",
   "execution_count": 9,
   "metadata": {},
   "outputs": [],
   "source": [
    "dirMap = {\n",
    "    \"FINNIFTY\": \"NIFTYFINSERVICE\",\n",
    "    \"MIDCPNIFTY\": \"MIDCAP50\",\n",
    "    \"NIFTY\": \"NSENIFTY\",\n",
    "    \"BANKNIFTY\": \"BANKNIFTY\",\n",
    "}\n",
    "for ky, val in dirMap.items():\n",
    "    future.symbol.replace(to_replace=ky, value=val, inplace=True)"
   ]
  },
  {
   "cell_type": "code",
   "execution_count": 10,
   "metadata": {},
   "outputs": [],
   "source": [
    "ohlcData = pd.merge(\n",
    "    left=dfStocks[\n",
    "        [\"symbol\", \"date\", \"open\", \"high\", \"low\", \"close\", \"volume\", \"delivery\"]\n",
    "    ],\n",
    "    right=future[[\"symbol\", \"date\", \"OI\"]],\n",
    "    left_on=[\"symbol\", \"date\"],\n",
    "    right_on=[\"symbol\", \"date\"],\n",
    "    how=\"left\",\n",
    ")"
   ]
  },
  {
   "cell_type": "code",
   "execution_count": 11,
   "metadata": {},
   "outputs": [],
   "source": [
    "indexes = [\n",
    "    \"NIFTY200\",\n",
    "    \"NIFTY100\",\n",
    "    \"NSE500\",\n",
    "    \"NSENIFTY\",\n",
    "    \"MIDCAP50\",\n",
    "    \"BANKNIFTY\",\n",
    "    \"NIFTYFINSERVICE\",\n",
    "    \"NIFTYFMGC\",\n",
    "    \"NSEIT\",\n",
    "    \"NIFTYMEDIA\",\n",
    "    \"NIFTYPVTBANK\",\n",
    "    \"NIFTYPSUBANK\",\n",
    "    \"NIFTYENERGY\",\n",
    "]\n",
    "for ind in indexes:\n",
    "    currNifty500 = currNifty500.append(\n",
    "        pd.DataFrame(\n",
    "            {\"Company Name\": [f\"IND_{ind}\"], \"Industry\": [\"INDEX\"], \"Symbol\": [ind]}\n",
    "        )\n",
    "    )\n",
    "currNifty500 = currNifty500[[\"Company Name\", \"Industry\", \"Symbol\"]].drop_duplicates()\n",
    "currNifty500.columns = [\"company\", \"industry\", \"symbol\"]"
   ]
  },
  {
   "cell_type": "code",
   "execution_count": 12,
   "metadata": {},
   "outputs": [],
   "source": [
    "pd.merge(\n",
    "    left=ohlcData, right=currNifty500, left_on=\"symbol\", right_on=\"symbol\", how=\"inner\"\n",
    ").to_csv(\n",
    "    r\"C:\\Users\\ksdee\\Documents\\PersonalFinance\\Trading\\Trading_Data\\NSEData\\ohlcWithDelOI.csv\",\n",
    "    index=False,\n",
    ")"
   ]
  },
  {
   "cell_type": "code",
   "execution_count": 13,
   "metadata": {},
   "outputs": [],
   "source": [
    "temp = pd.merge(\n",
    "    left=ohlcData, right=currNifty500, left_on=\"symbol\", right_on=\"symbol\", how=\"inner\"\n",
    ")"
   ]
  },
  {
   "cell_type": "code",
   "execution_count": 14,
   "metadata": {},
   "outputs": [
    {
     "data": {
      "text/plain": [
       "datetime.date(2022, 4, 22)"
      ]
     },
     "execution_count": 14,
     "metadata": {},
     "output_type": "execute_result"
    }
   ],
   "source": [
    "dfStocks.loc[dfStocks.symbol == \"LEMONTREE\", \"date\"].max()"
   ]
  },
  {
   "cell_type": "code",
   "execution_count": 15,
   "metadata": {},
   "outputs": [
    {
     "data": {
      "text/plain": [
       "datetime.date(2022, 4, 22)"
      ]
     },
     "execution_count": 15,
     "metadata": {},
     "output_type": "execute_result"
    }
   ],
   "source": [
    "temp.date.max()"
   ]
  },
  {
   "cell_type": "code",
   "execution_count": null,
   "metadata": {},
   "outputs": [],
   "source": []
  }
 ],
 "metadata": {
  "interpreter": {
   "hash": "f891598fa8b5b5972efaca718c03aa35a97b948fac6e65a1553e3ec4b83c56aa"
  },
  "kernelspec": {
   "display_name": "Python 3.8.8 ('base')",
   "language": "python",
   "name": "python3"
  },
  "language_info": {
   "codemirror_mode": {
    "name": "ipython",
    "version": 3
   },
   "file_extension": ".py",
   "mimetype": "text/x-python",
   "name": "python",
   "nbconvert_exporter": "python",
   "pygments_lexer": "ipython3",
   "version": "3.8.8"
  },
  "orig_nbformat": 4
 },
 "nbformat": 4,
 "nbformat_minor": 2
}
